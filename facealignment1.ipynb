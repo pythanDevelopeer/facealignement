{
 "cells": [
  {
   "cell_type": "code",
   "execution_count": null,
   "id": "360b1713-2bfc-497f-975a-2003dcc53728",
   "metadata": {},
   "outputs": [],
   "source": []
  }
 ],
 "metadata": {
  "kernelspec": {
   "display_name": "",
   "name": ""
  },
  "language_info": {
   "name": ""
  }
 },
 "nbformat": 4,
 "nbformat_minor": 5
}
